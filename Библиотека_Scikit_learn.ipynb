{
  "nbformat": 4,
  "nbformat_minor": 0,
  "metadata": {
    "colab": {
      "provenance": [],
      "include_colab_link": true
    },
    "kernelspec": {
      "name": "python3",
      "display_name": "Python 3"
    },
    "language_info": {
      "name": "python"
    }
  },
  "cells": [
    {
      "cell_type": "markdown",
      "metadata": {
        "id": "view-in-github",
        "colab_type": "text"
      },
      "source": [
        "<a href=\"https://colab.research.google.com/github/Daarlens/ProBook/blob/main/%D0%91%D0%B8%D0%B1%D0%BB%D0%B8%D0%BE%D1%82%D0%B5%D0%BA%D0%B0_Scikit_learn.ipynb\" target=\"_parent\"><img src=\"https://colab.research.google.com/assets/colab-badge.svg\" alt=\"Open In Colab\"/></a>"
      ]
    },
    {
      "cell_type": "markdown",
      "source": [
        "### Библиотека Scikit-learn\n",
        "\n",
        "Библиотека **Scikit-learn** является одной из самых популярных и мощных библиотек для машинного обучения в Python. Она предоставляет множество инструментов для анализа данных и реализации различных алгоритмов машинного обучения (как для задач классификации, так и для регрессии, кластеризации, снижения размерности и т.д.). В этой лекции мы подробно рассмотрим основные концепции библиотеки, ее функционал и примеры использования.\n",
        "\n",
        "#### 1. Введение в Scikit-learn\n",
        "\n",
        "**Scikit-learn** построена на базе других библиотек, таких как NumPy, SciPy и Matplotlib, что делает ее интегрированной частью экосистемы научных вычислений на Python. Основные особенности библиотеки:\n",
        "- Простота в использовании и доступная документация.\n",
        "- Широкий выбор алгоритмов машинного обучения.\n",
        "- Поддержка предобработки данных.\n",
        "- Возможность оценки модели с помощью различных метрик.\n",
        "- Возможности кросс-валидации и подбора гиперпараметров.\n",
        "\n",
        "#### 2. Структура Scikit-learn\n",
        "\n",
        "Все объекты и функционал библиотеки можно разделить на несколько категорий:\n",
        "- **Алгоритмы машинного обучения**: классификация, регрессия, кластеризация, снижение размерности.\n",
        "- **Предобработка данных**: масштабирование, нормализация, кодирование категориальных признаков и т.д.\n",
        "- **Оценка модели**: кросс-валидация, метрики точности, подбор гиперпараметров.\n",
        "- **Модельный пайплайн**: позволяет объединять несколько шагов обработки и обучения в одном процессе.\n",
        "\n",
        "#### 3. Классификация и регрессия\n",
        "\n",
        "##### 3.1. Классификация\n",
        "Классификация — это задача, при которой модель пытается отнести объект к одному из заранее определенных классов.\n",
        "\n",
        "**Пример 1: Классификация с использованием метода K ближайших соседей (KNN)**\n",
        "\n",
        "Метод **K ближайших соседей** (K-Nearest Neighbors, KNN) — один из простых алгоритмов классификации, который присваивает класс объекту на основе ближайших соседей в пространстве признаков. В этом примере мы будем использовать набор данных \"Ирисы\", который состоит из данных о трех классах ирисов.\n",
        "\n",
        "Перед тем, как использовать алгоритм KNN, сначала нужно импортировать необходимые библиотеки и загрузить набор данных. Затем мы разделим данные на обучающую и тестовую выборки, чтобы модель могла учиться на одном подмножестве данных и проверять свои результаты на другом. После этого мы создадим и обучим модель KNN, а затем оценим ее точность.\n",
        "\n",
        "\n",
        "\n",
        "\n",
        "\n"
      ],
      "metadata": {
        "id": "mxd-FO9mzh-0"
      }
    },
    {
      "cell_type": "code",
      "source": [
        "# Импортируем необходимые библиотеки\n",
        "from sklearn.datasets import load_iris\n",
        "from sklearn.model_selection import train_test_split\n",
        "from sklearn.neighbors import KNeighborsClassifier\n",
        "from sklearn.metrics import accuracy_score\n",
        "\n",
        "# Загружаем набор данных \"Ирисы\"\n",
        "iris = load_iris()\n",
        "X, y = iris.data, iris.target\n",
        "\n",
        "# Разделяем данные на обучающую и тестовую выборки\n",
        "X_train, X_test, y_train, y_test = train_test_split(X, y, test_size=0.3, random_state=42)\n",
        "\n",
        "# Создаем модель KNN с числом соседей 3\n",
        "knn = KNeighborsClassifier(n_neighbors=3)\n",
        "\n",
        "# Обучаем модель\n",
        "knn.fit(X_train, y_train)\n",
        "\n",
        "# Делаем предсказания\n",
        "y_pred = knn.predict(X_test)\n",
        "# print(y_pred)\n",
        "\n",
        "# Оцениваем точность\n",
        "accuracy = accuracy_score(y_test, y_pred)\n",
        "print(f\"Точность классификации: {accuracy}\")"
      ],
      "metadata": {
        "id": "ykJP1iIWoxym",
        "outputId": "6fc824cc-9032-4e6e-abe6-e6fb977e5894",
        "colab": {
          "base_uri": "https://localhost:8080/"
        }
      },
      "execution_count": 7,
      "outputs": [
        {
          "output_type": "stream",
          "name": "stdout",
          "text": [
            "Точность классификации: 1.0\n"
          ]
        }
      ]
    },
    {
      "cell_type": "markdown",
      "source": [
        "**Объяснение кода**:\n",
        "1. Мы импортируем необходимые модули из библиотеки Scikit-learn.\n",
        "2. Загружаем набор данных \"Ирисы\" и извлекаем из него признаки (X) и метки классов (y).\n",
        "3. С помощью функции `train_test_split` разделяем данные на обучающую (70%) и тестовую (30%) выборки.\n",
        "4. Создаем экземпляр класса `KNeighborsClassifier`, указывая количество ближайших соседей (3 в данном случае).\n",
        "5. Обучаем модель с помощью метода `fit`, передавая обучающие данные.\n",
        "6. Используем метод `predict`, чтобы получить предсказания для тестовой выборки.\n",
        "7. Оцениваем точность модели с помощью функции `accuracy_score` и выводим результат.\n",
        "\n",
        "##### 3.2. Регрессия\n",
        "Регрессия используется, когда нужно предсказать числовое значение на основе данных. В этом примере мы используем линейную регрессию для предсказания цен на дома.\n",
        "\n",
        "**Пример 2: Линейная регрессия**\n",
        "\n",
        "Линейная регрессия — это алгоритм, который строит линейную зависимость между независимыми переменными (фичами) и зависимой переменной (целевым значением). Мы будем использовать набор данных, который содержит информацию о ценах на дома в Калифорнии.\n",
        "\n",
        "Перед тем, как обучить модель линейной регрессии, нам нужно загрузить данные, разделить их на обучающую и тестовую выборки, а затем создать и обучить модель. После обучения мы сделаем предсказания на тестовой выборке и оценим качество модели с помощью средней квадратичной ошибки.\n",
        "\n",
        "\n",
        "\n",
        "\n",
        "\n"
      ],
      "metadata": {
        "id": "ysS4_oeNoyFl"
      }
    },
    {
      "cell_type": "code",
      "source": [
        "# Импортируем необходимые библиотеки\n",
        "from sklearn.datasets import fetch_california_housing\n",
        "from sklearn.model_selection import train_test_split\n",
        "from sklearn.linear_model import LinearRegression\n",
        "from sklearn.metrics import mean_squared_error\n",
        "\n",
        "# Загружаем набор данных по ценам на дома в Калифорнии\n",
        "california = fetch_california_housing()\n",
        "X, y = california.data, california.target\n",
        "\n",
        "# Разделяем данные на обучающую и тестовую выборки\n",
        "X_train, X_test, y_train, y_test = train_test_split(X, y, test_size=0.3, random_state=42)\n",
        "\n",
        "# Создаем модель линейной регрессии\n",
        "lr = LinearRegression()\n",
        "\n",
        "# Обучаем модель\n",
        "lr.fit(X_train, y_train)\n",
        "\n",
        "# Делаем предсказания\n",
        "y_pred = lr.predict(X_test)\n",
        "\n",
        "# Оцениваем модель с помощью метрики средней квадратичной ошибки\n",
        "mse = mean_squared_error(y_test, y_pred)\n",
        "print(f\"Средняя квадратичная ошибка: {mse}\")\n",
        "\n"
      ],
      "metadata": {
        "id": "tu0hvZvM0q7Q",
        "outputId": "b76ce8dd-64ce-4e68-f5a5-aeb511dc127b",
        "colab": {
          "base_uri": "https://localhost:8080/"
        }
      },
      "execution_count": 11,
      "outputs": [
        {
          "output_type": "stream",
          "name": "stdout",
          "text": [
            "Средняя квадратичная ошибка: 0.5305677824766757\n"
          ]
        }
      ]
    },
    {
      "cell_type": "markdown",
      "source": [
        "**Объяснение кода**:\n",
        "1. Импортируем необходимые библиотеки для работы с линейной регрессией и метриками.\n",
        "2. Загружаем набор данных по ценам на дома в Бостоне и извлекаем признаки (X) и целевые значения (y).\n",
        "3. Делим данные на обучающую и тестовую выборки с помощью функции `train_test_split`.\n",
        "4. Создаем экземпляр класса `LinearRegression` для модели линейной регрессии.\n",
        "5. Обучаем модель на тренировочных данных с помощью метода `fit`.\n",
        "6. Предсказываем значения для тестовой выборки с помощью метода `predict`.\n",
        "7. Оцениваем модель по средней квадратичной ошибке (MSE) с помощью функции `mean_squared_error`.\n",
        "\n",
        "#### 4. Предобработка данных\n",
        "\n",
        "Для большинства моделей машинного обучения важно правильно предобработать данные. Scikit-learn предлагает множество инструментов для этого.\n",
        "\n",
        "##### 4.1. Масштабирование признаков\n",
        "Многие алгоритмы машинного обучения чувствительны к масштабам признаков (например, логистическая регрессия или метод опорных векторов). Масштабирование помогает сделать так, чтобы все признаки имели одинаковый масштаб. Это особенно важно, если признаки имеют разные единицы измерения.\n",
        "\n",
        "**Пример 3: Стандартизация данных**\n",
        "\n",
        "В этом примере мы используем `StandardScaler` для масштабирования признаков. Он стандартизирует данные так, чтобы они имели среднее 0 и стандартное отклонение 1.\n",
        "\n",
        "\n",
        "\n",
        "\n",
        "\n"
      ],
      "metadata": {
        "id": "gn06J5Zc0gn5"
      }
    },
    {
      "cell_type": "code",
      "source": [
        "# Импортируем StandardScaler для масштабирования\n",
        "from sklearn.preprocessing import StandardScaler\n",
        "import numpy as np\n",
        "\n",
        "# Создаем набор данных (2 признака)\n",
        "X = np.array([[1, 2], [2, 3], [4, 5], [6, 7]])\n",
        "\n",
        "# Создаем объект StandardScaler\n",
        "scaler = StandardScaler()\n",
        "\n",
        "# Обучаем и трансформируем данные\n",
        "X_scaled = scaler.fit_transform(X)\n",
        "\n",
        "print(\"Исходные данные:\\n\", X)\n",
        "print(\"Масштабированные данные:\\n\", X_scaled)"
      ],
      "metadata": {
        "id": "wCGP0aa8ARcA",
        "outputId": "274b3545-9003-4251-c727-0c18f811f0df",
        "colab": {
          "base_uri": "https://localhost:8080/"
        }
      },
      "execution_count": 12,
      "outputs": [
        {
          "output_type": "stream",
          "name": "stdout",
          "text": [
            "Исходные данные:\n",
            " [[1 2]\n",
            " [2 3]\n",
            " [4 5]\n",
            " [6 7]]\n",
            "Масштабированные данные:\n",
            " [[-1.1717002  -1.1717002 ]\n",
            " [-0.65094455 -0.65094455]\n",
            " [ 0.39056673  0.39056673]\n",
            " [ 1.43207802  1.43207802]]\n"
          ]
        }
      ]
    },
    {
      "cell_type": "markdown",
      "source": [
        "**Объяснение кода**:\n",
        "1. Импортируем класс `StandardScaler` для масштабирования и библиотеку NumPy.\n",
        "2. Создаем массив NumPy, представляющий набор данных с двумя признаками.\n",
        "3. Создаем экземпляр `StandardScaler`, который будет использоваться для стандартизации данных.\n",
        "4. Применяем метод `fit_transform` для обучения на исходных данных и трансформации их в масштабированные данные.\n",
        "5. Выводим исходные и масштабированные данные для сравнения.\n",
        "\n",
        "##### 4.2. Кодирование категориальных признаков\n",
        "Категориальные признаки должны быть преобразованы в числовые перед тем, как их можно будет использовать в моделях машинного обучения. Один из распространенных способов — использование one-hot кодирования, при котором каждый уникальный класс представляется отдельным бинарным признаком.\n",
        "\n",
        "**Пример 4: One-hot кодирование**\n",
        "\n",
        "В этом примере мы используем `OneHotEncoder`, чтобы закодировать категориальные данные в двоичные вектора.\n",
        "\n",
        "\n",
        "\n",
        "\n",
        "\n"
      ],
      "metadata": {
        "id": "gIkMw36vAR02"
      }
    },
    {
      "cell_type": "code",
      "source": [
        "# Импортируем необходимые библиотеки\n",
        "import numpy as np\n",
        "from sklearn.preprocessing import OneHotEncoder\n",
        "\n",
        "# Создаем категориальные данные\n",
        "X = np.array([['Male'], ['Female'], ['Female'], ['Male']])\n",
        "\n",
        "# Создаем объект OneHotEncoder\n",
        "encoder = OneHotEncoder()\n",
        "\n",
        "# Трансформируем данные\n",
        "X_encoded = encoder.fit_transform(X).toarray()\n",
        "\n",
        "print(\"Закодированные данные:\\n\", X_encoded)\n"
      ],
      "metadata": {
        "id": "j8YE_zt1A9ra",
        "outputId": "12424535-ddda-49e8-aa43-b339f0fe5646",
        "colab": {
          "base_uri": "https://localhost:8080/"
        }
      },
      "execution_count": 14,
      "outputs": [
        {
          "output_type": "stream",
          "name": "stdout",
          "text": [
            "Закодированные данные:\n",
            " [[0. 1.]\n",
            " [1. 0.]\n",
            " [1. 0.]\n",
            " [0. 1.]]\n"
          ]
        }
      ]
    },
    {
      "cell_type": "markdown",
      "source": [
        "**Объяснение кода**:\n",
        "1. Импортируем класс `OneHotEncoder` из модуля `preprocessing`.\n",
        "2. Создаем массив NumPy с категориальными данными (пол).\n",
        "3. Создаем экземпляр `OneHotEncoder`, который будет использоваться для кодирования.\n",
        "4. Применяем метод `fit_transform`, чтобы закодировать данные и преобразовать их в массив NumPy.\n",
        "5. Выводим закодированные данные для просмотра.\n",
        "\n",
        "#### 5. Оценка качества модели\n",
        "\n",
        "После того, как модель обучена, необходимо оценить, насколько хорошо она работает. В Scikit-learn существует множество метрик для этого.\n",
        "\n",
        "##### 5.1. Метрики для классификации\n",
        "Одной из самых распространенных метрик для классификации является точность (accuracy), которая измеряет долю правильно классифицированных объектов. Также можно использовать метрики, такие как F1-скор и полнота, для более глубокого анализа.\n",
        "\n",
        "**Пример 5: Оценка модели классификации**\n",
        "\n",
        "В этом примере мы будем использовать функцию `classification_report`, чтобы получить подробный отчет по метрикам классификации для модели KNN, которую мы обучали ранее.\n",
        "\n",
        "\n",
        "\n",
        "\n",
        "\n"
      ],
      "metadata": {
        "id": "rHcKFCpOA61v"
      }
    },
    {
      "cell_type": "code",
      "source": [
        "from sklearn.metrics import classification_report\n",
        "# Импортируем необходимые библиотеки\n",
        "from sklearn.datasets import load_iris\n",
        "from sklearn.model_selection import train_test_split\n",
        "from sklearn.neighbors import KNeighborsClassifier\n",
        "from sklearn.metrics import accuracy_score\n",
        "\n",
        "# Загружаем набор данных \"Ирисы\"\n",
        "iris = load_iris()\n",
        "X, y = iris.data, iris.target\n",
        "\n",
        "# Разделяем данные на обучающую и тестовую выборки\n",
        "X_train, X_test, y_train, y_test = train_test_split(X, y, test_size=0.3, random_state=42)\n",
        "\n",
        "# Создаем модель KNN с числом соседей 3\n",
        "knn = KNeighborsClassifier(n_neighbors=3)\n",
        "\n",
        "# Обучаем модель\n",
        "knn.fit(X_train, y_train)\n",
        "\n",
        "# Делаем предсказания\n",
        "y_pred = knn.predict(X_test)\n",
        "# print(y_pred)\n",
        "\n",
        "\n",
        "# Оцениваем модель по метрикам precision, recall, f1-score\n",
        "print(classification_report(y_test, y_pred, target_names=iris.target_names))"
      ],
      "metadata": {
        "id": "AC92eH29Dp3u",
        "outputId": "83b82038-23c8-4ff5-fade-961a80582fa6",
        "colab": {
          "base_uri": "https://localhost:8080/"
        }
      },
      "execution_count": 17,
      "outputs": [
        {
          "output_type": "stream",
          "name": "stdout",
          "text": [
            "              precision    recall  f1-score   support\n",
            "\n",
            "      setosa       1.00      1.00      1.00        19\n",
            "  versicolor       1.00      1.00      1.00        13\n",
            "   virginica       1.00      1.00      1.00        13\n",
            "\n",
            "    accuracy                           1.00        45\n",
            "   macro avg       1.00      1.00      1.00        45\n",
            "weighted avg       1.00      1.00      1.00        45\n",
            "\n"
          ]
        }
      ]
    },
    {
      "cell_type": "markdown",
      "source": [
        "**Объяснение кода**:\n",
        "1. Импортируем функцию `classification_report` из модуля `metrics`.\n",
        "2. Используем `classification_report`, чтобы получить метрики для тестовой выборки, включая точность (precision), полноту (recall) и F1-скор.\n",
        "3. Выводим отчет, который включает метрики для каждого класса в наборе данных \"Ирисы\".\n",
        "\n",
        "##### 5.2. Метрики для регрессии\n",
        "Для регрессии часто используются такие метрики, как **среднеквадратичная ошибка (MSE)** и **средняя абсолютная ошибка (MAE)**. Эти метрики позволяют оценить, насколько близки предсказанные значения к истинным.\n",
        "\n",
        "**Пример 6: Оценка модели регрессии**\n",
        "\n",
        "Мы будем использовать метрику средней абсолютной ошибки для оценки качества линейной регрессии.\n",
        "\n",
        "\n",
        "\n",
        "\n"
      ],
      "metadata": {
        "id": "xJstQWYoDs19"
      }
    },
    {
      "cell_type": "code",
      "source": [
        "\n",
        "from sklearn.metrics import mean_absolute_error\n",
        "# Импортируем необходимые библиотеки\n",
        "from sklearn.datasets import fetch_california_housing\n",
        "from sklearn.model_selection import train_test_split\n",
        "from sklearn.linear_model import LinearRegression\n",
        "from sklearn.metrics import mean_squared_error\n",
        "\n",
        "# Загружаем набор данных по ценам на дома в Калифорнии\n",
        "california = fetch_california_housing()\n",
        "X, y = california.data, california.target\n",
        "\n",
        "# Разделяем данные на обучающую и тестовую выборки\n",
        "X_train, X_test, y_train, y_test = train_test_split(X, y, test_size=0.3, random_state=42)\n",
        "\n",
        "# Создаем модель линейной регрессии\n",
        "lr = LinearRegression()\n",
        "\n",
        "# Обучаем модель\n",
        "lr.fit(X_train, y_train)\n",
        "\n",
        "# Делаем предсказания\n",
        "y_pred = lr.predict(X_test)\n",
        "\n",
        "\n",
        "\n",
        "# Оцениваем модель с помощью средней абсолютной ошибки\n",
        "mae = mean_absolute_error(y_test, y_pred)\n",
        "print(f\"Средняя абсолютная ошибка: {mae}\")"
      ],
      "metadata": {
        "id": "nCKrhDP6GVOQ",
        "outputId": "a3be8477-4b1f-4674-f036-5f3005425b05",
        "colab": {
          "base_uri": "https://localhost:8080/"
        }
      },
      "execution_count": 18,
      "outputs": [
        {
          "output_type": "stream",
          "name": "stdout",
          "text": [
            "Средняя абсолютная ошибка: 0.5272474538306174\n"
          ]
        }
      ]
    },
    {
      "cell_type": "markdown",
      "source": [
        "**Объяснение кода**:\n",
        "1. Импортируем функцию `mean_absolute_error` из модуля `metrics`.\n",
        "2. Вычисляем среднюю абсолютную ошибку, используя тестовые данные и предсказанные значения.\n",
        "3. Выводим значение средней абсолютной ошибки, что позволяет оценить качество модели.\n",
        "\n",
        "#### 6. Кросс-валидация и подбор гиперпараметров\n",
        "\n",
        "##### 6.1. Кросс-валидация\n",
        "\n",
        "Кросс-валидация помогает избежать переобучения путем использования различных подмножеств данных для обучения и тестирования. Один из распространенных методов — **K-fold** кросс-валидация, где данные разбиваются на K частей, и модель обучается K раз, каждый раз используя одну часть для тестирования, а остальные для обучения.\n",
        "\n",
        "**Пример 7: K-fold кросс-валидация**\n",
        "\n",
        "В этом примере мы будем использовать `cross_val_score`, чтобы оценить модель KNN с помощью 5-fold кросс-валидации.\n",
        "\n",
        "\n",
        "\n",
        "\n"
      ],
      "metadata": {
        "id": "dZIX4C5ZGVjz"
      }
    },
    {
      "cell_type": "code",
      "source": [
        "from sklearn.model_selection import cross_val_score\n",
        "# Импортируем необходимые библиотеки\n",
        "from sklearn.datasets import load_iris\n",
        "from sklearn.model_selection import train_test_split\n",
        "from sklearn.neighbors import KNeighborsClassifier\n",
        "from sklearn.metrics import accuracy_score\n",
        "\n",
        "# Загружаем набор данных \"Ирисы\"\n",
        "iris = load_iris()\n",
        "X, y = iris.data, iris.target\n",
        "\n",
        "# Разделяем данные на обучающую и тестовую выборки\n",
        "X_train, X_test, y_train, y_test = train_test_split(X, y, test_size=0.3, random_state=42)\n",
        "\n",
        "# Создаем модель KNN с числом соседей 3\n",
        "knn = KNeighborsClassifier(n_neighbors=3)\n",
        "\n",
        "# Обучаем модель\n",
        "knn.fit(X_train, y_train)\n",
        "\n",
        "# Делаем предсказания\n",
        "y_pred = knn.predict(X_test)\n",
        "# print(y_pred)\n",
        "\n",
        "\n",
        "# Оцениваем модель с помощью 5-fold кросс-валидации\n",
        "scores = cross_val_score(knn, X, y, cv=5)\n",
        "\n",
        "print(\"Точности для каждой из 5 складок:\", scores)\n",
        "print(\"Средняя точность:\", scores.mean())\n"
      ],
      "metadata": {
        "id": "7YnaqnAjG6ka",
        "outputId": "2cbcf326-4da1-48a5-c9d7-be6cc162a857",
        "colab": {
          "base_uri": "https://localhost:8080/"
        }
      },
      "execution_count": 19,
      "outputs": [
        {
          "output_type": "stream",
          "name": "stdout",
          "text": [
            "Точности для каждой из 5 складок: [0.96666667 0.96666667 0.93333333 0.96666667 1.        ]\n",
            "Средняя точность: 0.9666666666666668\n"
          ]
        }
      ]
    },
    {
      "cell_type": "markdown",
      "source": [
        "**Объяснение кода**:\n",
        "1. Импортируем функцию `cross_val_score` из модуля `model_selection`.\n",
        "2. Используем `cross_val_score`, чтобы оценить модель KNN с 5-fold кросс-валидацией, передавая данные и целевые значения.\n",
        "3. Выводим точности для каждой из 5 фолдов и среднюю точность по всем фолдам.\n",
        "\n",
        "##### 6.2. Подбор гиперпараметров\n",
        "\n",
        "Подбор гиперпараметров помогает найти оптимальные параметры для модели. Один из распространенных методов — **Grid Search**. С его помощью можно проверить различные комбинации параметров и выбрать наилучшие.\n",
        "\n",
        "**Пример 8: Grid Search для подбора гиперпараметров**\n",
        "\n",
        "В этом примере мы будем использовать `GridSearchCV`, чтобы найти наилучшие параметры для модели KNN.\n",
        "\n",
        "\n"
      ],
      "metadata": {
        "id": "GaEt0Rz7G65h"
      }
    },
    {
      "cell_type": "code",
      "source": [
        "from sklearn.model_selection import GridSearchCV\n",
        "# Импортируем необходимые библиотеки\n",
        "from sklearn.datasets import load_iris\n",
        "from sklearn.model_selection import train_test_split\n",
        "from sklearn.neighbors import KNeighborsClassifier\n",
        "from sklearn.metrics import accuracy_score\n",
        "\n",
        "# Загружаем набор данных \"Ирисы\"\n",
        "iris = load_iris()\n",
        "X, y = iris.data, iris.target\n",
        "\n",
        "# Разделяем данные на обучающую и тестовую выборки\n",
        "X_train, X_test, y_train, y_test = train_test_split(X, y, test_size=0.3, random_state=42)\n",
        "\n",
        "# Создаем модель KNN с числом соседей 3\n",
        "knn = KNeighborsClassifier(n_neighbors=3)\n",
        "\n",
        "# Обучаем модель\n",
        "knn.fit(X_train, y_train)\n",
        "\n",
        "# Делаем предсказания\n",
        "y_pred = knn.predict(X_test)\n",
        "# print(y_pred)\n",
        "\n",
        "\n",
        "# Определяем параметры для подбора\n",
        "param_grid = {'n_neighbors': [1, 3, 5, 7, 9]}\n",
        "\n",
        "# Создаем объект GridSearchCV\n",
        "grid_search = GridSearchCV(KNeighborsClassifier(), param_grid, cv=5)\n",
        "\n",
        "# Обучаем модель с помощью Grid Search\n",
        "grid_search.fit(X_train, y_train)\n",
        "\n",
        "# Лучшие параметры\n",
        "print(\"Лучшие параметры:\", grid_search.best_params_)\n"
      ],
      "metadata": {
        "id": "1gIZkafGHeca",
        "outputId": "4667f995-fdf8-466f-ff55-7cd8e85285f0",
        "colab": {
          "base_uri": "https://localhost:8080/"
        }
      },
      "execution_count": 20,
      "outputs": [
        {
          "output_type": "stream",
          "name": "stdout",
          "text": [
            "Лучшие параметры: {'n_neighbors': 1}\n"
          ]
        }
      ]
    },
    {
      "cell_type": "markdown",
      "source": [
        "**Объяснение кода**:\n",
        "1. Импортируем класс `GridSearchCV` из модуля `model_selection`.\n",
        "2. Определяем словарь `param_grid`, в котором указываем параметры для подбора — в данном случае количество соседей.\n",
        "3. Создаем экземпляр `GridSearchCV`, передавая модель KNN и параметры для подбора, устанавливая кросс-валидацию на 5 фолдов.\n",
        "4. Обучаем модель с помощью метода `fit`, чтобы выполнить поиск по сетке.\n",
        "5. Выводим лучшие найденные параметры, что позволяет понять, какие настройки дают наилучшие результаты.\n",
        "\n",
        "#### Заключение\n",
        "\n",
        "Scikit-learn — это мощный инструмент для реализации алгоритмов машинного обучения и предобработки данных. Он предлагает разнообразные алгоритмы, инструменты для оценки моделей и предобработки данных, а также удобные средства для работы с гиперпараметрами. В этой лекции мы рассмотрели основные аспекты работы с библиотекой, но возможности Scikit-learn намного шире, и рекомендуется изучать документацию для более глубокого понимания."
      ],
      "metadata": {
        "id": "pYK6sNYwHglf"
      }
    },
    {
      "cell_type": "markdown",
      "source": [
        "\n",
        "##Задачи для самостоятельной работы\n",
        "\n",
        "1. Загрузите набор данных \"Ирисы\" и постройте модель KNN. Оцените точность модели и выведите отчет по метрикам.\n",
        "\n"
      ],
      "metadata": {
        "id": "eMnT3DFB2nSx"
      }
    },
    {
      "cell_type": "code",
      "source": [
        "# Импортируем необходимые библиотеки\n",
        "import numpy as np\n",
        "import pandas as pd\n",
        "from sklearn.datasets import load_iris\n",
        "from sklearn.model_selection import train_test_split\n",
        "from sklearn.neighbors import KNeighborsClassifier\n",
        "from sklearn.metrics import classification_report, accuracy_score\n",
        "\n",
        "# Загружаем набор данных \"Ирисы\"\n",
        "iris = load_iris()\n",
        "X = iris.data\n",
        "y = iris.target\n",
        "\n",
        "# Разделяем данные на обучающую и тестовую выборки (70% - 30%)\n",
        "X_train, X_test, y_train, y_test = train_test_split(X, y, test_size=0.3, random_state=42)\n",
        "\n",
        "# Создаем модель KNN с количеством соседей k=3\n",
        "knn = KNeighborsClassifier(n_neighbors=3)\n",
        "\n",
        "# Обучаем модель\n",
        "knn.fit(X_train, y_train)\n",
        "\n",
        "# Делаем предсказания на тестовой выборке\n",
        "y_pred = knn.predict(X_test)\n",
        "\n",
        "# Оцениваем точность модели\n",
        "accuracy = accuracy_score(y_test, y_pred)\n",
        "print(f\"Точность модели: {accuracy:.2f}\")\n",
        "\n",
        "# Выводим отчет по метрикам\n",
        "print(\"Отчет по метрикам:\\n\", classification_report(y_test, y_pred, target_names=iris.target_names))"
      ],
      "metadata": {
        "id": "x9eH1JQRLGw2",
        "outputId": "207c59a7-75f7-45d7-bbf2-0fe0e7728daa",
        "colab": {
          "base_uri": "https://localhost:8080/"
        }
      },
      "execution_count": 21,
      "outputs": [
        {
          "output_type": "stream",
          "name": "stdout",
          "text": [
            "Точность модели: 1.00\n",
            "Отчет по метрикам:\n",
            "               precision    recall  f1-score   support\n",
            "\n",
            "      setosa       1.00      1.00      1.00        10\n",
            "  versicolor       1.00      1.00      1.00         9\n",
            "   virginica       1.00      1.00      1.00        11\n",
            "\n",
            "    accuracy                           1.00        30\n",
            "   macro avg       1.00      1.00      1.00        30\n",
            "weighted avg       1.00      1.00      1.00        30\n",
            "\n"
          ]
        }
      ]
    },
    {
      "cell_type": "markdown",
      "source": [
        "2. Реализуйте линейную регрессию на наборе данных \"Калифорния\". Рассчитайте среднюю абсолютную ошибку и среднюю квадратичную ошибку.\n",
        "\n"
      ],
      "metadata": {
        "id": "9bL0wGRHLG9a"
      }
    },
    {
      "cell_type": "code",
      "source": [
        "# Импортируем необходимые библиотеки\n",
        "from sklearn.datasets import fetch_california_housing\n",
        "from sklearn.model_selection import train_test_split\n",
        "from sklearn.linear_model import LinearRegression\n",
        "from sklearn.metrics import mean_squared_error\n",
        "\n",
        "\n",
        "from sklearn.metrics import mean_absolute_error\n",
        "\n",
        "# Загружаем набор данных по ценам на дома в Калифорнии\n",
        "california = fetch_california_housing()\n",
        "X, y = california.data, california.target\n",
        "\n",
        "# Разделяем данные на обучающую и тестовую выборки\n",
        "X_train, X_test, y_train, y_test = train_test_split(X, y, test_size=0.3, random_state=42)\n",
        "\n",
        "# Создаем модель линейной регрессии\n",
        "lr = LinearRegression()\n",
        "\n",
        "# Обучаем модель\n",
        "lr.fit(X_train, y_train)\n",
        "\n",
        "# Делаем предсказания\n",
        "y_pred = lr.predict(X_test)\n",
        "\n",
        "# Оцениваем модель с помощью метрики средней квадратичной ошибки\n",
        "mse = mean_squared_error(y_test, y_pred)\n",
        "print(f\"Средняя квадратичная ошибка: {mse}\")\n",
        "\n",
        "# Оцениваем модель с помощью средней абсолютной ошибки\n",
        "mae = mean_absolute_error(y_test, y_pred)\n",
        "print(f\"Средняя абсолютная ошибка: {mae}\")"
      ],
      "metadata": {
        "id": "mnA7J4aFL6eX",
        "outputId": "7bb2de1c-46bb-41bb-f570-12bed8f81888",
        "colab": {
          "base_uri": "https://localhost:8080/"
        }
      },
      "execution_count": 22,
      "outputs": [
        {
          "output_type": "stream",
          "name": "stdout",
          "text": [
            "Средняя квадратичная ошибка: 0.5305677824766757\n",
            "Средняя абсолютная ошибка: 0.5272474538306174\n"
          ]
        }
      ]
    },
    {
      "cell_type": "markdown",
      "source": [
        "3. Используйте `StandardScaler` для масштабирования признаков в наборе данных \"Ирисы\". Сравните результаты до и после масштабирования.\n",
        "\n"
      ],
      "metadata": {
        "id": "oEen8f_sL64C"
      }
    },
    {
      "cell_type": "code",
      "source": [
        "# Импортируем необходимые библиотеки\n",
        "import numpy as np\n",
        "import pandas as pd\n",
        "from sklearn.datasets import load_iris\n",
        "from sklearn.model_selection import train_test_split\n",
        "from sklearn.preprocessing import StandardScaler\n",
        "from sklearn.neighbors import KNeighborsClassifier\n",
        "from sklearn.metrics import classification_report, accuracy_score\n",
        "\n",
        "# Загружаем набор данных \"Ирисы\"\n",
        "iris = load_iris()\n",
        "X = iris.data\n",
        "y = iris.target\n",
        "\n",
        "# Разделяем данные на обучающую и тестовую выборки (80% - 20%)\n",
        "X_train, X_test, y_train, y_test = train_test_split(X, y, test_size=0.2, random_state=42)\n",
        "\n",
        "# Создаем и обучаем модель KNN без масштабирования\n",
        "knn = KNeighborsClassifier(n_neighbors=3)\n",
        "knn.fit(X_train, y_train)\n",
        "\n",
        "# Делаем предсказания на тестовой выборке без масштабирования\n",
        "y_pred = knn.predict(X_test)\n",
        "\n",
        "# Оцениваем точность модели без масштабирования\n",
        "accuracy_before = accuracy_score(y_test, y_pred)\n",
        "print(f\"Точность модели без масштабирования: {accuracy_before:.2f}\")\n",
        "print(\"Отчет по метрикам без масштабирования:\\n\", classification_report(y_test, y_pred, target_names=iris.target_names))\n",
        "\n",
        "# Масштабируем данные с использованием StandardScaler\n",
        "scaler = StandardScaler()\n",
        "X_train_scaled = scaler.fit_transform(X_train)\n",
        "X_test_scaled = scaler.transform(X_test)\n",
        "\n",
        "# Создаем и обучаем модель KNN с масштабированными данными\n",
        "knn_scaled = KNeighborsClassifier(n_neighbors=3)\n",
        "knn_scaled.fit(X_train_scaled, y_train)\n",
        "\n",
        "# Делаем предсказания на тестовой выборке с масштабированием\n",
        "y_pred_scaled = knn_scaled.predict(X_test_scaled)\n",
        "\n",
        "print()\n",
        "# Оцениваем точность модели с масштабированием\n",
        "accuracy_after = accuracy_score(y_test, y_pred_scaled)\n",
        "print(f\"Точность модели с масштабированием: {accuracy_after:.2f}\")\n",
        "print(\"Отчет по метрикам с масштабированием:\\n\", classification_report(y_test, y_pred_scaled, target_names=iris.target_names))\n",
        "\n",
        "\n",
        "\n"
      ],
      "metadata": {
        "id": "qCCZLv1CDocR",
        "outputId": "7e26cfac-5f3e-4abb-e288-2881b7a410dc",
        "colab": {
          "base_uri": "https://localhost:8080/"
        }
      },
      "execution_count": 24,
      "outputs": [
        {
          "output_type": "stream",
          "name": "stdout",
          "text": [
            "Точность модели без масштабирования: 1.00\n",
            "Отчет по метрикам без масштабирования:\n",
            "               precision    recall  f1-score   support\n",
            "\n",
            "      setosa       1.00      1.00      1.00        10\n",
            "  versicolor       1.00      1.00      1.00         9\n",
            "   virginica       1.00      1.00      1.00        11\n",
            "\n",
            "    accuracy                           1.00        30\n",
            "   macro avg       1.00      1.00      1.00        30\n",
            "weighted avg       1.00      1.00      1.00        30\n",
            "\n",
            "\n",
            "Точность модели с масштабированием: 1.00\n",
            "Отчет по метрикам с масштабированием:\n",
            "               precision    recall  f1-score   support\n",
            "\n",
            "      setosa       1.00      1.00      1.00        10\n",
            "  versicolor       1.00      1.00      1.00         9\n",
            "   virginica       1.00      1.00      1.00        11\n",
            "\n",
            "    accuracy                           1.00        30\n",
            "   macro avg       1.00      1.00      1.00        30\n",
            "weighted avg       1.00      1.00      1.00        30\n",
            "\n"
          ]
        }
      ]
    },
    {
      "cell_type": "markdown",
      "source": [
        "4. Примените one-hot кодирование к категориальным данным (например, пол) с использованием `OneHotEncoder`.\n",
        "\n"
      ],
      "metadata": {
        "id": "inobWfuyMAFl"
      }
    },
    {
      "cell_type": "code",
      "source": [
        "# Импортируем необходимые библиотеки\n",
        "import numpy as np\n",
        "import pandas as pd\n",
        "from sklearn.preprocessing import OneHotEncoder\n",
        "\n",
        "# Создаем категориальные данные\n",
        "data = pd.DataFrame({\n",
        "    'Gender': ['Male', 'Female', 'Female', 'Male'],\n",
        "    'Age': [23, 45, 31, 22]\n",
        "})\n",
        "\n",
        "# Инициализируем OneHotEncoder\n",
        "encoder = OneHotEncoder()\n",
        "\n",
        "# Применяем one-hot кодирование к столбцу 'Gender'\n",
        "encoded_data = encoder.fit_transform(data[['Gender']]).toarray()\n",
        "\n",
        "# Получаем имена новых столбцов\n",
        "encoded_columns = encoder.get_feature_names_out(['Gender'])\n",
        "\n",
        "# Создаем DataFrame с закодированными данными\n",
        "encoded_df = pd.DataFrame(encoded_data, columns=encoded_columns)\n",
        "\n",
        "# Объединяем закодированные данные с исходными\n",
        "final_data = pd.concat([data, encoded_df], axis=1).drop('Gender', axis=1)\n",
        "\n",
        "print(\"Исходные данные:\\n\", data)\n",
        "print(\"\\nЗакодированные данные:\\n\", final_data)"
      ],
      "metadata": {
        "id": "umzjD3hlMGWN",
        "outputId": "4f8fee2c-f2d8-491b-982e-1c419c86d4b5",
        "colab": {
          "base_uri": "https://localhost:8080/"
        }
      },
      "execution_count": 25,
      "outputs": [
        {
          "output_type": "stream",
          "name": "stdout",
          "text": [
            "Исходные данные:\n",
            "    Gender  Age\n",
            "0    Male   23\n",
            "1  Female   45\n",
            "2  Female   31\n",
            "3    Male   22\n",
            "\n",
            "Закодированные данные:\n",
            "    Age  Gender_Female  Gender_Male\n",
            "0   23            0.0          1.0\n",
            "1   45            1.0          0.0\n",
            "2   31            1.0          0.0\n",
            "3   22            0.0          1.0\n"
          ]
        }
      ]
    },
    {
      "cell_type": "markdown",
      "source": [
        "Объяснение кода:\n",
        "Импортируем необходимые библиотеки numpy, pandas и OneHotEncoder, создаем простой DataFrame с категориальными данными (пол и возраст).\n",
        "\n",
        "Применяем one-hot кодирование к столбцу 'Gender' и преобразуем результат в массив.\n",
        "Используем метод get_feature_names_out() для получения имен новых закодированных столбцов.\n",
        "Создаем новый DataFrame с закодированными данными.\n",
        "Объединяем закодированные данные с исходным DataFrame и удаляем оригинальный столбец 'Gender'.\n",
        "\n",
        "Вывод программы покажет исходные данные и закодированные данные, где пол представлен в виде двух новых столбцов (например, Gender_Female и Gender_Male), содержащих значения 0 или 1.\n"
      ],
      "metadata": {
        "id": "FvJ_xyQzQQ2c"
      }
    },
    {
      "cell_type": "markdown",
      "source": [
        "5. Постройте модель логистической регрессии на наборе данных \"Ирисы\" и оцените ее точность.\n",
        "\n"
      ],
      "metadata": {
        "id": "rzfcLEwaMGsq"
      }
    },
    {
      "cell_type": "code",
      "source": [
        "# Импортируем необходимые библиотеки\n",
        "import numpy as np\n",
        "from sklearn.datasets import load_iris\n",
        "from sklearn.model_selection import train_test_split\n",
        "from sklearn.linear_model import LogisticRegression\n",
        "from sklearn.metrics import accuracy_score, classification_report\n",
        "\n",
        "# Загружаем набор данных \"Ирисы\"\n",
        "iris = load_iris()\n",
        "X, y = iris.data, iris.target\n",
        "\n",
        "# Разделяем данные на обучающую и тестовую выборки (80% - 20%)\n",
        "X_train, X_test, y_train, y_test = train_test_split(X, y, test_size=0.2, random_state=42)\n",
        "\n",
        "# Создаем и обучаем модель логистической регрессии\n",
        "model = LogisticRegression(max_iter=1000)\n",
        "model.fit(X_train, y_train)\n",
        "\n",
        "# Делаем предсказания на тестовой выборке\n",
        "y_pred = model.predict(X_test)\n",
        "\n",
        "# Вычисляем точность классификации\n",
        "accuracy = accuracy_score(y_test, y_pred)\n",
        "print(\"Точность классификации: {:.2f}%\".format(accuracy * 100))\n",
        "\n",
        "# Выводим отчет по метрикам\n",
        "print(\"Отчет по метрикам:\\n\", classification_report(y_test, y_pred, target_names=iris.target_names))"
      ],
      "metadata": {
        "id": "sZHbwU4GMI3G",
        "outputId": "34f65bbe-8e1e-4d00-9144-9ef7047bfab4",
        "colab": {
          "base_uri": "https://localhost:8080/"
        }
      },
      "execution_count": 26,
      "outputs": [
        {
          "output_type": "stream",
          "name": "stdout",
          "text": [
            "Точность классификации: 100.00%\n",
            "Отчет по метрикам:\n",
            "               precision    recall  f1-score   support\n",
            "\n",
            "      setosa       1.00      1.00      1.00        10\n",
            "  versicolor       1.00      1.00      1.00         9\n",
            "   virginica       1.00      1.00      1.00        11\n",
            "\n",
            "    accuracy                           1.00        30\n",
            "   macro avg       1.00      1.00      1.00        30\n",
            "weighted avg       1.00      1.00      1.00        30\n",
            "\n"
          ]
        }
      ]
    },
    {
      "cell_type": "markdown",
      "source": [
        "6. Используйте `cross_val_score` для оценки модели KNN с 10-fold кросс-валидацией.\n",
        "\n"
      ],
      "metadata": {
        "id": "4-7IKVvTMJPJ"
      }
    },
    {
      "cell_type": "code",
      "source": [
        "# Импортируем необходимые библиотеки\n",
        "import numpy as np\n",
        "from sklearn.datasets import load_iris\n",
        "from sklearn.model_selection import train_test_split, cross_val_score\n",
        "from sklearn.neighbors import KNeighborsClassifier\n",
        "\n",
        "# Загружаем набор данных \"Ирисы\"\n",
        "iris = load_iris()\n",
        "X, y = iris.data, iris.target\n",
        "\n",
        "# Создаем модель KNN с количеством соседей k=3\n",
        "knn = KNeighborsClassifier(n_neighbors=3)\n",
        "\n",
        "# Оцениваем модель с помощью 10-fold кросс-валидации\n",
        "scores = cross_val_score(knn, X, y, cv=10, scoring='accuracy')\n",
        "\n",
        "# Выводим результаты\n",
        "print(\"Кросс-валидация (точность) для каждой из 10 фолдов:\\n\", scores)\n",
        "print(f\"\\nСредняя точность модели: {scores.mean():.2f}\")"
      ],
      "metadata": {
        "id": "8bZtDU_VMPW8",
        "outputId": "4cb321b3-fe4e-457d-f4fc-adbaad817d57",
        "colab": {
          "base_uri": "https://localhost:8080/"
        }
      },
      "execution_count": 29,
      "outputs": [
        {
          "output_type": "stream",
          "name": "stdout",
          "text": [
            "Кросс-валидация (точность) для каждой из 10 фолдов:\n",
            " [1.         0.93333333 1.         0.93333333 0.86666667 1.\n",
            " 0.93333333 1.         1.         1.        ]\n",
            "\n",
            "Средняя точность модели: 0.97\n"
          ]
        }
      ]
    },
    {
      "cell_type": "markdown",
      "source": [
        "Объяснение кода:\n",
        "\n",
        " Используется функция cross_val_score для выполнения 10-fold кросс-валидации. Она разбивает данные на 10 частей, обучает модель на 9 частях и тестирует на одной.\n",
        "Выводятся точности для каждой из 10 фолдов и средняя точность модели.\n",
        "\n",
        "На выходе получаем  массив точностей для каждой из фолдов и среднюю точность модели KNN на наборе данных \"Ирисы\"."
      ],
      "metadata": {
        "id": "DAXlcRdwRxtz"
      }
    },
    {
      "cell_type": "markdown",
      "source": [
        "7. Реализуйте метод опорных векторов (SVM) на наборе данных \"Ирисы\" и оцените его производительность.\n",
        "\n"
      ],
      "metadata": {
        "id": "DlJChTM8MP_f"
      }
    },
    {
      "cell_type": "code",
      "source": [
        "# Импортируем необходимые библиотеки\n",
        "import numpy as np\n",
        "from sklearn.datasets import load_iris\n",
        "from sklearn.model_selection import train_test_split\n",
        "from sklearn.svm import SVC\n",
        "from sklearn.metrics import accuracy_score, classification_report\n",
        "\n",
        "# Загружаем набор данных \"Ирисы\"\n",
        "iris = load_iris()\n",
        "X, y = iris.data, iris.target\n",
        "\n",
        "# Разделяем данные на обучающую и тестовую выборки (80% - 20%)\n",
        "X_train, X_test, y_train, y_test = train_test_split(X, y, test_size=0.2, random_state=42)\n",
        "\n",
        "# Создаем модель SVM с радиальной базисной функцией (RBF)\n",
        "model = SVC(kernel='rbf', gamma='scale')  # gamma='scale' используется для автоматического выбора значения\n",
        "\n",
        "# Обучаем модель\n",
        "model.fit(X_train, y_train)\n",
        "\n",
        "# Делаем предсказания на тестовой выборке\n",
        "y_pred = model.predict(X_test)\n",
        "\n",
        "# Вычисляем точность классификации\n",
        "accuracy = accuracy_score(y_test, y_pred)\n",
        "print(\"Точность классификации: {:.2f}%\".format(accuracy * 100))\n",
        "\n",
        "# Выводим отчет по метрикам\n",
        "print(\"Отчет по метрикам:\\n\", classification_report(y_test, y_pred, target_names=iris.target_names))"
      ],
      "metadata": {
        "id": "UYxAG_cEMTSa",
        "outputId": "d8a58999-c369-4bb5-e539-e453c13a34aa",
        "colab": {
          "base_uri": "https://localhost:8080/"
        }
      },
      "execution_count": 30,
      "outputs": [
        {
          "output_type": "stream",
          "name": "stdout",
          "text": [
            "Точность классификации: 100.00%\n",
            "Отчет по метрикам:\n",
            "               precision    recall  f1-score   support\n",
            "\n",
            "      setosa       1.00      1.00      1.00        10\n",
            "  versicolor       1.00      1.00      1.00         9\n",
            "   virginica       1.00      1.00      1.00        11\n",
            "\n",
            "    accuracy                           1.00        30\n",
            "   macro avg       1.00      1.00      1.00        30\n",
            "weighted avg       1.00      1.00      1.00        30\n",
            "\n"
          ]
        }
      ]
    },
    {
      "cell_type": "markdown",
      "source": [
        "Объяснение кода:\n",
        "\n",
        " Модель создается с использованием радиальной базисной функции (RBF) в качестве ядра.\n",
        "Выводится отчет по метрикам (precision, recall, f1-score) для каждой из классов в наборе данных \"Ирисы\".\n"
      ],
      "metadata": {
        "id": "wKEtEdNWSNRE"
      }
    },
    {
      "cell_type": "markdown",
      "source": [
        "8. Загрузите набор данных \"Wine\" и постройте модель случайного леса. Оцените точность модели.\n",
        "\n"
      ],
      "metadata": {
        "id": "pqVJz1WPMTmN"
      }
    },
    {
      "cell_type": "code",
      "source": [
        "# Импортируем необходимые библиотеки\n",
        "import pandas as pd\n",
        "from sklearn.model_selection import train_test_split\n",
        "from sklearn.ensemble import RandomForestClassifier\n",
        "from sklearn.metrics import accuracy_score, classification_report\n",
        "\n",
        "# Загружаем набор данных \"Wine\"\n",
        "\n",
        "url = \"https://archive.ics.uci.edu/ml/machine-learning-databases/wine-quality/winequality-red.csv\"\n",
        "data = pd.read_csv(url, sep=';')\n",
        "\n",
        "# Просмотр первых строк данных\n",
        "print(data.head())\n",
        "\n",
        "# Определяем признаки и целевую переменную\n",
        "X = data.drop('quality', axis=1)  # Все столбцы, кроме 'quality'\n",
        "y = data['quality']  # Столбец 'quality' как целевая переменная\n",
        "\n",
        "# Разделяем данные на обучающую и тестовую выборки (70% - 30%)\n",
        "X_train, X_test, y_train, y_test = train_test_split(X, y, test_size=0.3, random_state=42)\n",
        "\n",
        "# Создаем модель случайного леса\n",
        "model = RandomForestClassifier(n_estimators=100, random_state=42)\n",
        "\n",
        "# Обучаем модель\n",
        "model.fit(X_train, y_train)\n",
        "\n",
        "# Делаем предсказания на тестовой выборке\n",
        "y_pred = model.predict(X_test)\n",
        "\n",
        "# Вычисляем точность классификации\n",
        "accuracy = accuracy_score(y_test, y_pred)\n",
        "print(\"Точность классификации: {:.2f}%\".format(accuracy * 100))\n",
        "\n",
        "# Выводим отчет по метрикам\n",
        "print(\"Отчет по метрикам:\\n\", classification_report(y_test, y_pred))"
      ],
      "metadata": {
        "id": "eGqsFYEiMYuz",
        "outputId": "c288ce34-ab97-4dce-c50c-6b8366432b6c",
        "colab": {
          "base_uri": "https://localhost:8080/"
        }
      },
      "execution_count": 32,
      "outputs": [
        {
          "output_type": "stream",
          "name": "stdout",
          "text": [
            "   fixed acidity  volatile acidity  citric acid  residual sugar  chlorides  \\\n",
            "0            7.4              0.70         0.00             1.9      0.076   \n",
            "1            7.8              0.88         0.00             2.6      0.098   \n",
            "2            7.8              0.76         0.04             2.3      0.092   \n",
            "3           11.2              0.28         0.56             1.9      0.075   \n",
            "4            7.4              0.70         0.00             1.9      0.076   \n",
            "\n",
            "   free sulfur dioxide  total sulfur dioxide  density    pH  sulphates  \\\n",
            "0                 11.0                  34.0   0.9978  3.51       0.56   \n",
            "1                 25.0                  67.0   0.9968  3.20       0.68   \n",
            "2                 15.0                  54.0   0.9970  3.26       0.65   \n",
            "3                 17.0                  60.0   0.9980  3.16       0.58   \n",
            "4                 11.0                  34.0   0.9978  3.51       0.56   \n",
            "\n",
            "   alcohol  quality  \n",
            "0      9.4        5  \n",
            "1      9.8        5  \n",
            "2      9.8        5  \n",
            "3      9.8        6  \n",
            "4      9.4        5  \n",
            "Точность классификации: 65.42%\n",
            "Отчет по метрикам:\n",
            "               precision    recall  f1-score   support\n",
            "\n",
            "           3       0.00      0.00      0.00         1\n",
            "           4       0.00      0.00      0.00        17\n",
            "           5       0.72      0.75      0.73       195\n",
            "           6       0.62      0.69      0.65       200\n",
            "           7       0.56      0.46      0.50        61\n",
            "           8       0.50      0.17      0.25         6\n",
            "\n",
            "    accuracy                           0.65       480\n",
            "   macro avg       0.40      0.34      0.36       480\n",
            "weighted avg       0.63      0.65      0.64       480\n",
            "\n"
          ]
        },
        {
          "output_type": "stream",
          "name": "stderr",
          "text": [
            "/usr/local/lib/python3.10/dist-packages/sklearn/metrics/_classification.py:1531: UndefinedMetricWarning: Precision is ill-defined and being set to 0.0 in labels with no predicted samples. Use `zero_division` parameter to control this behavior.\n",
            "  _warn_prf(average, modifier, f\"{metric.capitalize()} is\", len(result))\n",
            "/usr/local/lib/python3.10/dist-packages/sklearn/metrics/_classification.py:1531: UndefinedMetricWarning: Precision is ill-defined and being set to 0.0 in labels with no predicted samples. Use `zero_division` parameter to control this behavior.\n",
            "  _warn_prf(average, modifier, f\"{metric.capitalize()} is\", len(result))\n",
            "/usr/local/lib/python3.10/dist-packages/sklearn/metrics/_classification.py:1531: UndefinedMetricWarning: Precision is ill-defined and being set to 0.0 in labels with no predicted samples. Use `zero_division` parameter to control this behavior.\n",
            "  _warn_prf(average, modifier, f\"{metric.capitalize()} is\", len(result))\n"
          ]
        }
      ]
    },
    {
      "cell_type": "markdown",
      "source": [
        "9. Используйте `GridSearchCV` для подбора гиперпараметров для модели KNN. Найдите оптимальное значение параметра `n_neighbors`.\n",
        "\n"
      ],
      "metadata": {
        "id": "M4GFVvdYMZCB"
      }
    },
    {
      "cell_type": "code",
      "source": [
        "# Импортируем необходимые библиотеки\n",
        "import numpy as np\n",
        "from sklearn.datasets import load_iris\n",
        "from sklearn.model_selection import train_test_split, GridSearchCV\n",
        "from sklearn.neighbors import KNeighborsClassifier\n",
        "\n",
        "# Загружаем набор данных \"Ирисы\"\n",
        "iris = load_iris()\n",
        "X, y = iris.data, iris.target\n",
        "\n",
        "# Разделяем данные на обучающую и тестовую выборки (80% - 20%)\n",
        "X_train, X_test, y_train, y_test = train_test_split(X, y, test_size=0.2, random_state=42)\n",
        "\n",
        "# Создаем модель KNN\n",
        "knn = KNeighborsClassifier()\n",
        "\n",
        "# Определяем диапазон значений для n_neighbors\n",
        "param_grid = {'n_neighbors': np.arange(1, 25)}\n",
        "\n",
        "# Создаем объект GridSearchCV\n",
        "grid_search = GridSearchCV(knn, param_grid, cv=5, scoring='accuracy')\n",
        "\n",
        "# Обучаем модель с использованием GridSearchCV\n",
        "grid_search.fit(X_train, y_train)\n",
        "\n",
        "# Находим оптимальное значение n_neighbors\n",
        "best_n_neighbors = grid_search.best_params_['n_neighbors']\n",
        "best_score = grid_search.best_score_\n",
        "\n",
        "print(f\"Оптимальное значение n_neighbors: {best_n_neighbors}\")\n",
        "print(f\"Средняя точность модели при этом значении: {best_score:.2f}\")"
      ],
      "metadata": {
        "id": "yU8BXEl1Mbxp",
        "outputId": "a77f1353-a922-48c5-8d33-dc864d490f5c",
        "colab": {
          "base_uri": "https://localhost:8080/"
        }
      },
      "execution_count": 33,
      "outputs": [
        {
          "output_type": "stream",
          "name": "stdout",
          "text": [
            "Оптимальное значение n_neighbors: 3\n",
            "Средняя точность модели при этом значении: 0.96\n"
          ]
        }
      ]
    },
    {
      "cell_type": "markdown",
      "source": [
        "10. Постройте модель деревьев решений на наборе данных \"Ирисы\" и визуализируйте дерево с помощью `plot_tree`.\n",
        "\n"
      ],
      "metadata": {
        "id": "Fqg6ZrP2McHf"
      }
    },
    {
      "cell_type": "code",
      "source": [
        "# Импортируем необходимые библиотеки\n",
        "import numpy as np\n",
        "import matplotlib.pyplot as plt\n",
        "from sklearn.datasets import load_iris\n",
        "from sklearn.model_selection import train_test_split\n",
        "from sklearn.tree import DecisionTreeClassifier, plot_tree\n",
        "\n",
        "# Загружаем набор данных \"Ирисы\"\n",
        "iris = load_iris()\n",
        "X, y = iris.data, iris.target\n",
        "\n",
        "# Разделяем данные на обучающую и тестовую выборки (70% - 30%)\n",
        "X_train, X_test, y_train, y_test = train_test_split(X, y, test_size=0.3, random_state=42)\n",
        "\n",
        "# Создаем модель дерева решений\n",
        "model = DecisionTreeClassifier(max_depth=3, random_state=42)  # Ограничиваем глубину для лучшей визуализации\n",
        "\n",
        "# Обучаем модель\n",
        "model.fit(X_train, y_train)\n",
        "\n",
        "# Делаем предсказания (необязательно)\n",
        "y_pred = model.predict(X_test)\n",
        "\n",
        "# Визуализируем дерево решений\n",
        "plt.figure(figsize=(12, 8))\n",
        "plot_tree(model,\n",
        "           feature_names=iris.feature_names,\n",
        "           class_names=iris.target_names,\n",
        "           filled=True,\n",
        "           rounded=True,\n",
        "           fontsize=12)\n",
        "plt.title(\"Дерево решений для набора данных 'Ирисы'\")\n",
        "plt.show()"
      ],
      "metadata": {
        "id": "Ak6ZKy2vMhLp",
        "outputId": "6003c82c-bc5b-430e-f9f3-3c365e454dbf",
        "colab": {
          "base_uri": "https://localhost:8080/",
          "height": 676
        }
      },
      "execution_count": 34,
      "outputs": [
        {
          "output_type": "display_data",
          "data": {
            "text/plain": [
              "<Figure size 1200x800 with 1 Axes>"
            ],
            "image/png": "[encoded data removed]"
          },
          "metadata": {}
        }
      ]
    },
    {
      "cell_type": "markdown",
      "source": [
        "Объяснение кода:\n",
        "Импортируются необходимые библиотеки для работы с данными и построения модели.\n",
        "Загружаем набор данных \"Ирисы\" с помощью load_iris().\n",
        "Данные разделяются на обучающую и тестовую выборки с использованием train_test_split().\n",
        "\n",
        " Модель дерева решений создается с ограничением глубины (max_depth=3) для улучшения визуализации.\n",
        "Модель обучается на обучающей выборке.\n",
        "Для визуализации дерева решений используется функция plot_tree(). Параметры filled=True и rounded=True добавляют цвет и округленные углы к узлам дерева.\n",
        "\n",
        "В результате получиаем визуализацию дерева решений, где каждый узел будет содержать информацию о признаках, значениях и количестве образцов в каждом классе."
      ],
      "metadata": {
        "id": "TB4XNnDBVqLY"
      }
    },
    {
      "cell_type": "markdown",
      "source": [
        "\n"
      ],
      "metadata": {
        "id": "ioNmmxJ3Mhf7"
      }
    },
    {
      "cell_type": "markdown",
      "source": [
        "##Вопросы для самопроверки\n",
        "\n",
        "1. Что такое Scikit-learn и какие задачи она решает в машинном обучении?\n",
        "\n",
        "2. Каковы основные этапы работы с данными в Scikit-learn?\n",
        "\n",
        "3. В чем разница между задачами классификации и регрессии?\n",
        "\n",
        "4. Как работает метод K ближайших соседей (KNN)?\n",
        "\n",
        "5. Какие метрики можно использовать для оценки качества модели классификации?\n",
        "\n",
        "6. Как можно избежать переобучения модели?\n",
        "\n",
        "7. Что такое кросс-валидация и как она помогает в оценке моделей?\n",
        "\n",
        "8. Как использовать `StandardScaler` для масштабирования данных и почему это важно?\n",
        "\n",
        "9. Что такое one-hot кодирование и когда его следует применять?\n",
        "\n",
        "10. Как работает `GridSearchCV` и для чего он используется?\n",
        "\n",
        "11. Как можно визуализировать результаты работы модели, например, с помощью матрицы путаницы?\n",
        "\n",
        "12. Каковы преимущества и недостатки использования деревьев решений?\n",
        "\n",
        "13. В чем разница между `RandomForestClassifier` и `DecisionTreeClassifier`?\n",
        "\n",
        "14. Как можно использовать `Pipeline` для упрощения процесса предобработки и обучения модели?\n",
        "\n",
        "15. Что такое PCA и как он используется для снижения размерности данных?\n",
        "\n",
        "16. Как работает метод опорных векторов (SVM) и в каких случаях его следует использовать?\n",
        "\n",
        "17. Как можно оценить важность признаков в модели случайного леса?\n",
        "\n",
        "18. Что такое регрессия Лассо и как она отличается от линейной регрессии?\n",
        "\n",
        "19. Как использовать `TfidfVectorizer` для обработки текстовых данных?\n",
        "\n",
        "20. Какие существуют способы обработки категориальных признаков в Scikit-learn?"
      ],
      "metadata": {
        "id": "gQiYmHXj20OG"
      }
    }
  ]
}